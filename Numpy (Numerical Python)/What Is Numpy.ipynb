{
 "cells": [
  {
   "cell_type": "code",
   "execution_count": 1,
   "id": "43528776",
   "metadata": {},
   "outputs": [],
   "source": [
    "# What Is Numpy?"
   ]
  },
  {
   "cell_type": "code",
   "execution_count": 2,
   "id": "78570997",
   "metadata": {},
   "outputs": [],
   "source": [
    "# NumPy (Numerical Python) is a Python library used to work with numerical data.\n",
    "# NumPy includes functions and data structures that can perform a wide variety of mathematical operations.\n",
    "\n",
    "# To start using NumPy, we first need to import it:"
   ]
  },
  {
   "cell_type": "code",
   "execution_count": 3,
   "id": "9aad4f97",
   "metadata": {},
   "outputs": [],
   "source": [
    "import numpy as np"
   ]
  },
  {
   "cell_type": "code",
   "execution_count": null,
   "id": "2a77c270",
   "metadata": {},
   "outputs": [],
   "source": [
    "# np is the most common name used to import numpy."
   ]
  },
  {
   "cell_type": "code",
   "execution_count": 4,
   "id": "2526b8f9",
   "metadata": {},
   "outputs": [],
   "source": [
    "# NumPy Array"
   ]
  },
  {
   "cell_type": "code",
   "execution_count": 5,
   "id": "dfd7583a",
   "metadata": {},
   "outputs": [],
   "source": [
    "# In Python, lists are used to store data.\n",
    "# NumPy provides an array structure for performing operations with data.\n",
    "# NumPy arrays are faster and more compact than lists.\n",
    "\n",
    "# A NumPy array can be created using the np.array() function, providing it a list as the argument:"
   ]
  },
  {
   "cell_type": "code",
   "execution_count": 8,
   "id": "93f13837",
   "metadata": {},
   "outputs": [],
   "source": [
    "x = np.array([1,2,3,4])"
   ]
  },
  {
   "cell_type": "code",
   "execution_count": 9,
   "id": "5ca5149b",
   "metadata": {},
   "outputs": [],
   "source": [
    "# Now, x is a NumPy array containing 4 values.\n",
    "# We can access its elements using their indexes, which start from 0:"
   ]
  },
  {
   "cell_type": "code",
   "execution_count": 10,
   "id": "ac9ae922",
   "metadata": {},
   "outputs": [
    {
     "name": "stdout",
     "output_type": "stream",
     "text": [
      "1\n"
     ]
    }
   ],
   "source": [
    "print(x[0])"
   ]
  },
  {
   "cell_type": "code",
   "execution_count": 13,
   "id": "54b38682",
   "metadata": {},
   "outputs": [],
   "source": [
    "# NumPy arrays are homogeneous, meaning they can contain only a\n",
    "# single data type, while lists can contain multiple different types of data."
   ]
  }
 ],
 "metadata": {
  "kernelspec": {
   "display_name": "Python 3",
   "language": "python",
   "name": "python3"
  },
  "language_info": {
   "codemirror_mode": {
    "name": "ipython",
    "version": 3
   },
   "file_extension": ".py",
   "mimetype": "text/x-python",
   "name": "python",
   "nbconvert_exporter": "python",
   "pygments_lexer": "ipython3",
   "version": "3.8.8"
  }
 },
 "nbformat": 4,
 "nbformat_minor": 5
}
