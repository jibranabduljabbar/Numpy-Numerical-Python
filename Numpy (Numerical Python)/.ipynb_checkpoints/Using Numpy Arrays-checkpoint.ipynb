{
 "cells": [
  {
   "cell_type": "code",
   "execution_count": 1,
   "id": "12e85610",
   "metadata": {},
   "outputs": [],
   "source": [
    "# NumPy Arrays"
   ]
  },
  {
   "cell_type": "code",
   "execution_count": 2,
   "id": "4e7e4995",
   "metadata": {},
   "outputs": [],
   "source": [
    "# NumPy arrays are often called ndarrays, which stands for \"N-dimensional array\", because they can have multiple dimensions."
   ]
  },
  {
   "cell_type": "code",
   "execution_count": 3,
   "id": "f29f35cc",
   "metadata": {},
   "outputs": [],
   "source": [
    "# For Example:"
   ]
  },
  {
   "cell_type": "code",
   "execution_count": 6,
   "id": "15d0a9d3",
   "metadata": {},
   "outputs": [
    {
     "name": "stdout",
     "output_type": "stream",
     "text": [
      "6\n"
     ]
    }
   ],
   "source": [
    "import numpy as np\n",
    "x = np.array([[1, 2, 3] , [4, 5, 6] , [7, 8, 9]])\n",
    "print(x[1][2])"
   ]
  },
  {
   "cell_type": "code",
   "execution_count": 7,
   "id": "3274e253",
   "metadata": {},
   "outputs": [],
   "source": [
    "# This will create a 2-dimensional array, which has 3 columns and 3 rows, and output the value at the 2nd row and 3rd column.\n",
    "\n",
    "# Arrays have properties, which can be accessed using a dot.\n",
    "# ndim returns the number of dimensions of the array.\n",
    "# size returns the total number of elements of the array.\n",
    "# shape returns a tuple of integers that indicate the number of elements stored along each dimension of the array.\n",
    "\n",
    "# For example:"
   ]
  },
  {
   "cell_type": "code",
   "execution_count": 9,
   "id": "f1dc9bc8",
   "metadata": {},
   "outputs": [
    {
     "name": "stdout",
     "output_type": "stream",
     "text": [
      "2\n",
      "9\n",
      "(3, 3)\n"
     ]
    }
   ],
   "source": [
    "x = np.array([[1, 2, 3], [4, 5, 6], [7, 8, 9]]) \n",
    "print(x.ndim) # 2\n",
    "print(x.size) # 9\n",
    "print(x.shape) # (3, 3)"
   ]
  },
  {
   "cell_type": "code",
   "execution_count": 10,
   "id": "913bb1d3",
   "metadata": {},
   "outputs": [],
   "source": [
    "# So, the array in our example has 2 dimensions, 9 elements and is a 3x3 matrix (3 rows and 3 columns)."
   ]
  },
  {
   "cell_type": "code",
   "execution_count": 11,
   "id": "3ecb3eca",
   "metadata": {},
   "outputs": [],
   "source": [
    "# We can add, remove and sort an array using the np.append(), np.delete() and np.sort() functions.\n",
    "\n",
    "# For example:"
   ]
  },
  {
   "cell_type": "code",
   "execution_count": 13,
   "id": "a9a594b8",
   "metadata": {},
   "outputs": [],
   "source": [
    "x = np.array([2, 1, 3])"
   ]
  },
  {
   "cell_type": "code",
   "execution_count": 14,
   "id": "c1dd0c0a",
   "metadata": {},
   "outputs": [],
   "source": [
    "# add an element."
   ]
  },
  {
   "cell_type": "code",
   "execution_count": 15,
   "id": "b6f60aab",
   "metadata": {},
   "outputs": [],
   "source": [
    "x = np.append(x, 4)"
   ]
  },
  {
   "cell_type": "code",
   "execution_count": 16,
   "id": "008b68a0",
   "metadata": {},
   "outputs": [],
   "source": [
    "# delete at index."
   ]
  },
  {
   "cell_type": "code",
   "execution_count": 17,
   "id": "7637008a",
   "metadata": {},
   "outputs": [],
   "source": [
    "x = np.delete(x, 0)"
   ]
  },
  {
   "cell_type": "code",
   "execution_count": 18,
   "id": "745d8aae",
   "metadata": {},
   "outputs": [],
   "source": [
    "# sort the array."
   ]
  },
  {
   "cell_type": "code",
   "execution_count": 19,
   "id": "8ebd5bd5",
   "metadata": {},
   "outputs": [],
   "source": [
    "x = np.sort(x)"
   ]
  },
  {
   "cell_type": "code",
   "execution_count": 20,
   "id": "b5ef598a",
   "metadata": {},
   "outputs": [
    {
     "name": "stdout",
     "output_type": "stream",
     "text": [
      "[1 3 4]\n"
     ]
    }
   ],
   "source": [
    "print(x)"
   ]
  },
  {
   "cell_type": "code",
   "execution_count": 21,
   "id": "9b7df38b",
   "metadata": {},
   "outputs": [],
   "source": [
    "# np.arange() allows you to create an array that contains a range of evenly spaced intervals (similar to a Python range):"
   ]
  },
  {
   "cell_type": "code",
   "execution_count": 22,
   "id": "bfcbabdd",
   "metadata": {},
   "outputs": [],
   "source": [
    "y = np.arange(2, 10, 3) "
   ]
  },
  {
   "cell_type": "code",
   "execution_count": 23,
   "id": "579db514",
   "metadata": {},
   "outputs": [
    {
     "name": "stdout",
     "output_type": "stream",
     "text": [
      "[2 5 8]\n"
     ]
    }
   ],
   "source": [
    "print(y)"
   ]
  },
  {
   "cell_type": "code",
   "execution_count": 24,
   "id": "13343bfa",
   "metadata": {},
   "outputs": [],
   "source": [
    "# This will create the array [2, 5, 8]"
   ]
  }
 ],
 "metadata": {
  "kernelspec": {
   "display_name": "Python 3",
   "language": "python",
   "name": "python3"
  },
  "language_info": {
   "codemirror_mode": {
    "name": "ipython",
    "version": 3
   },
   "file_extension": ".py",
   "mimetype": "text/x-python",
   "name": "python",
   "nbconvert_exporter": "python",
   "pygments_lexer": "ipython3",
   "version": "3.8.8"
  }
 },
 "nbformat": 4,
 "nbformat_minor": 5
}
