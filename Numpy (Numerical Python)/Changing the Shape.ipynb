{
 "cells": [
  {
   "cell_type": "code",
   "execution_count": 1,
   "id": "1c649e6c",
   "metadata": {},
   "outputs": [],
   "source": [
    "# Reshape"
   ]
  },
  {
   "cell_type": "code",
   "execution_count": 2,
   "id": "4f7d49a4",
   "metadata": {},
   "outputs": [],
   "source": [
    "# Reshape can also do the opposite: take a 2-dimensional array and make a 1-dimensional array from it:"
   ]
  },
  {
   "cell_type": "code",
   "execution_count": 4,
   "id": "1246fc43",
   "metadata": {},
   "outputs": [],
   "source": [
    "import numpy as np"
   ]
  },
  {
   "cell_type": "code",
   "execution_count": 13,
   "id": "3988810a",
   "metadata": {},
   "outputs": [
    {
     "name": "stdout",
     "output_type": "stream",
     "text": [
      "[1 2 3 4 5 6]\n"
     ]
    }
   ],
   "source": [
    "x = np.array([[1, 2] , [3, 4] , [5, 6]])\n",
    "z = x.reshape(6)\n",
    "print(z)"
   ]
  },
  {
   "cell_type": "code",
   "execution_count": 14,
   "id": "f65779c9",
   "metadata": {},
   "outputs": [],
   "source": [
    "# The result is a flat array that contains 6 elements."
   ]
  },
  {
   "cell_type": "code",
   "execution_count": 15,
   "id": "63037825",
   "metadata": {},
   "outputs": [],
   "source": [
    "# The same result can be achieved using the flatten() function."
   ]
  }
 ],
 "metadata": {
  "kernelspec": {
   "display_name": "Python 3",
   "language": "python",
   "name": "python3"
  },
  "language_info": {
   "codemirror_mode": {
    "name": "ipython",
    "version": 3
   },
   "file_extension": ".py",
   "mimetype": "text/x-python",
   "name": "python",
   "nbconvert_exporter": "python",
   "pygments_lexer": "ipython3",
   "version": "3.8.8"
  }
 },
 "nbformat": 4,
 "nbformat_minor": 5
}
