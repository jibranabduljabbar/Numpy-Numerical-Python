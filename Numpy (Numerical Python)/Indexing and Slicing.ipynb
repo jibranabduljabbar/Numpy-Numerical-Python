{
 "cells": [
  {
   "cell_type": "code",
   "execution_count": null,
   "id": "c611efe2",
   "metadata": {},
   "outputs": [],
   "source": [
    "# Indexing and Slicing"
   ]
  },
  {
   "cell_type": "code",
   "execution_count": 5,
   "id": "63fb23ee",
   "metadata": {},
   "outputs": [],
   "source": [
    "# NumPy arrays can be indexed and sliced the same way that Python lists are.\n",
    "\n",
    "# For example:"
   ]
  },
  {
   "cell_type": "code",
   "execution_count": 17,
   "id": "bc75dc12",
   "metadata": {},
   "outputs": [],
   "source": [
    "import numpy as np"
   ]
  },
  {
   "cell_type": "code",
   "execution_count": 18,
   "id": "c343aff8",
   "metadata": {},
   "outputs": [],
   "source": [
    "x = np.arange(1 , 10)"
   ]
  },
  {
   "cell_type": "code",
   "execution_count": 19,
   "id": "0192574b",
   "metadata": {},
   "outputs": [
    {
     "name": "stdout",
     "output_type": "stream",
     "text": [
      "[1 2]\n"
     ]
    }
   ],
   "source": [
    "print(x[0:2])"
   ]
  },
  {
   "cell_type": "code",
   "execution_count": 20,
   "id": "27baa1ea",
   "metadata": {},
   "outputs": [
    {
     "name": "stdout",
     "output_type": "stream",
     "text": [
      "[6 7 8 9]\n"
     ]
    }
   ],
   "source": [
    "print(x[5:])"
   ]
  },
  {
   "cell_type": "code",
   "execution_count": 21,
   "id": "5085cf60",
   "metadata": {},
   "outputs": [
    {
     "name": "stdout",
     "output_type": "stream",
     "text": [
      "[1 2]\n"
     ]
    }
   ],
   "source": [
    "print(x[:2])"
   ]
  },
  {
   "cell_type": "code",
   "execution_count": 22,
   "id": "86371248",
   "metadata": {},
   "outputs": [
    {
     "name": "stdout",
     "output_type": "stream",
     "text": [
      "[7 8 9]\n"
     ]
    }
   ],
   "source": [
    "print(x[-3:])"
   ]
  },
  {
   "cell_type": "code",
   "execution_count": 23,
   "id": "9c05a714",
   "metadata": {},
   "outputs": [],
   "source": [
    "# Negative indexes count from the end of the array, so, [-3:] will result in the last 3 elements."
   ]
  },
  {
   "cell_type": "code",
   "execution_count": 25,
   "id": "f8740026",
   "metadata": {},
   "outputs": [],
   "source": [
    "# Conditions"
   ]
  },
  {
   "cell_type": "code",
   "execution_count": null,
   "id": "62b2616c",
   "metadata": {},
   "outputs": [],
   "source": [
    "# You can provide a condition as the index to select the elements that fulfill the given condition.\n",
    "\n",
    "# For example, let's select the elements that are less than 4:"
   ]
  },
  {
   "cell_type": "code",
   "execution_count": 27,
   "id": "b3ed9ac0",
   "metadata": {},
   "outputs": [
    {
     "name": "stdout",
     "output_type": "stream",
     "text": [
      "[1 2 3]\n"
     ]
    }
   ],
   "source": [
    "print(x[x<4])"
   ]
  },
  {
   "cell_type": "code",
   "execution_count": 28,
   "id": "ee4fa1b9",
   "metadata": {},
   "outputs": [],
   "source": [
    "# Conditions can be combined using the & (and) and | (or) operators.\n",
    "# For example, let's take the even numbers that are greater than 5:"
   ]
  },
  {
   "cell_type": "code",
   "execution_count": 29,
   "id": "e0dc3d3c",
   "metadata": {},
   "outputs": [
    {
     "name": "stdout",
     "output_type": "stream",
     "text": [
      "[6 8]\n"
     ]
    }
   ],
   "source": [
    "print(x[(x>5) & (x%2 == 0)])"
   ]
  },
  {
   "cell_type": "code",
   "execution_count": 30,
   "id": "30e66db6",
   "metadata": {},
   "outputs": [],
   "source": [
    "# The condition can also be assigned to a variable, which will be an array of boolean values showing whether or not\n",
    "# the values in the array fulfill the condition:\n",
    "# y = (x>5) & (x%2==0)"
   ]
  }
 ],
 "metadata": {
  "kernelspec": {
   "display_name": "Python 3",
   "language": "python",
   "name": "python3"
  },
  "language_info": {
   "codemirror_mode": {
    "name": "ipython",
    "version": 3
   },
   "file_extension": ".py",
   "mimetype": "text/x-python",
   "name": "python",
   "nbconvert_exporter": "python",
   "pygments_lexer": "ipython3",
   "version": "3.8.8"
  }
 },
 "nbformat": 4,
 "nbformat_minor": 5
}
