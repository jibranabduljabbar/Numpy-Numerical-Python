{
 "cells": [
  {
   "cell_type": "code",
   "execution_count": 1,
   "id": "5e9a6a06",
   "metadata": {},
   "outputs": [],
   "source": [
    "# Operations"
   ]
  },
  {
   "cell_type": "code",
   "execution_count": 2,
   "id": "f15bea83",
   "metadata": {},
   "outputs": [],
   "source": [
    "# It is easy to perform basic mathematical operations with arrays.\n",
    "# For example, to find the sum of all elements, we use the sum() function:"
   ]
  },
  {
   "cell_type": "code",
   "execution_count": 2,
   "id": "3cefbb8f",
   "metadata": {},
   "outputs": [],
   "source": [
    "import numpy as np"
   ]
  },
  {
   "cell_type": "code",
   "execution_count": 10,
   "id": "1d119050",
   "metadata": {},
   "outputs": [
    {
     "name": "stdout",
     "output_type": "stream",
     "text": [
      "45\n"
     ]
    }
   ],
   "source": [
    "x = np.arange(1 , 10)\n",
    "x = x.sum()\n",
    "print(x)"
   ]
  },
  {
   "cell_type": "code",
   "execution_count": 7,
   "id": "14315daa",
   "metadata": {},
   "outputs": [],
   "source": [
    "# Similarly, min() and max() can be used to get the smallest and largest elements.\n",
    "\n",
    "# We can also perform operations between the array and a single number.\n",
    "# For example, we can multiply all elements by 2:"
   ]
  },
  {
   "cell_type": "code",
   "execution_count": 11,
   "id": "af212180",
   "metadata": {},
   "outputs": [
    {
     "name": "stdout",
     "output_type": "stream",
     "text": [
      "90\n"
     ]
    }
   ],
   "source": [
    "y = x * 2\n",
    "print(y)"
   ]
  },
  {
   "cell_type": "code",
   "execution_count": 12,
   "id": "5c547fae",
   "metadata": {},
   "outputs": [],
   "source": [
    "# As simple as that! Take your array and perform any operation you want with it!"
   ]
  },
  {
   "cell_type": "code",
   "execution_count": 13,
   "id": "4c4afa33",
   "metadata": {},
   "outputs": [],
   "source": [
    "# Statistics:"
   ]
  },
  {
   "cell_type": "code",
   "execution_count": 15,
   "id": "3655e135",
   "metadata": {},
   "outputs": [],
   "source": [
    "# Remember the summary statistics we learned in the previous module?\n",
    "# Those included mean, median, variance and standard deviation.\n",
    "\n",
    "# NumPy arrays have built-in functions to return those values."
   ]
  },
  {
   "cell_type": "code",
   "execution_count": 16,
   "id": "baa881c3",
   "metadata": {},
   "outputs": [],
   "source": [
    "x = np.array([14, 18, 19, 24, 26, 33, 42, 55, 67])"
   ]
  },
  {
   "cell_type": "code",
   "execution_count": 23,
   "id": "bc6f365b",
   "metadata": {},
   "outputs": [
    {
     "name": "stdout",
     "output_type": "stream",
     "text": [
      "33.111111111111114\n"
     ]
    }
   ],
   "source": [
    "print(np.mean(x))"
   ]
  },
  {
   "cell_type": "code",
   "execution_count": 24,
   "id": "f9c4955f",
   "metadata": {},
   "outputs": [
    {
     "name": "stdout",
     "output_type": "stream",
     "text": [
      "26.0\n"
     ]
    }
   ],
   "source": [
    "print(np.median(x))"
   ]
  },
  {
   "cell_type": "code",
   "execution_count": 25,
   "id": "8e822b10",
   "metadata": {},
   "outputs": [
    {
     "name": "stdout",
     "output_type": "stream",
     "text": [
      "292.5432098765432\n"
     ]
    }
   ],
   "source": [
    "print(np.var(x))"
   ]
  },
  {
   "cell_type": "code",
   "execution_count": 26,
   "id": "edbf1e23",
   "metadata": {},
   "outputs": [
    {
     "name": "stdout",
     "output_type": "stream",
     "text": [
      "17.10389458212787\n"
     ]
    }
   ],
   "source": [
    "print(np.std(x))"
   ]
  },
  {
   "cell_type": "code",
   "execution_count": 27,
   "id": "a48ed0a6",
   "metadata": {},
   "outputs": [],
   "source": [
    "# As you can see, NumPy provides many useful functions to perform common operations with arrays."
   ]
  }
 ],
 "metadata": {
  "kernelspec": {
   "display_name": "Python 3",
   "language": "python",
   "name": "python3"
  },
  "language_info": {
   "codemirror_mode": {
    "name": "ipython",
    "version": 3
   },
   "file_extension": ".py",
   "mimetype": "text/x-python",
   "name": "python",
   "nbconvert_exporter": "python",
   "pygments_lexer": "ipython3",
   "version": "3.8.8"
  }
 },
 "nbformat": 4,
 "nbformat_minor": 5
}
